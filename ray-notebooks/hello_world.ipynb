{
 "cells": [
  {
   "cell_type": "code",
   "execution_count": 1,
   "id": "b4e6c4e0",
   "metadata": {},
   "outputs": [
    {
     "name": "stdout",
     "output_type": "stream",
     "text": [
      "Hello World!\n"
     ]
    }
   ],
   "source": [
    "print(\"Hello World!\")"
   ]
  },
  {
   "cell_type": "code",
   "execution_count": 2,
   "id": "edfe5481",
   "metadata": {},
   "outputs": [
    {
     "name": "stderr",
     "output_type": "stream",
     "text": [
      "2025-10-12 23:35:38,865\tINFO util.py:154 -- Missing packages: ['ipywidgets']. Run `pip install -U ipywidgets`, then restart the notebook server for rich notebook output.\n",
      "2025-10-12 23:35:38,875\tINFO client_builder.py:241 -- Passing the following kwargs to ray.init() on the server: log_to_driver\n",
      "SIGTERM handler is not set because current thread is not the main thread.\n",
      "2025-10-12 23:35:40,114\tWARNING utils.py:1311 -- Python patch version mismatch: The cluster was started with:\n",
      "    Ray: 2.50.0\n",
      "    Python: 3.11.11\n",
      "This process on Ray Client was started with:\n",
      "    Ray: 2.50.0\n",
      "    Python: 3.11.14\n",
      "\n"
     ]
    },
    {
     "name": "stdout",
     "output_type": "stream",
     "text": [
      "SUCCESS! Ray is connected using the FQDN.\n"
     ]
    }
   ],
   "source": [
    "import ray\n",
    "\n",
    "# Use the FQDN to explicitly address the service in the 'default' namespace\n",
    "RAY_HEAD_ADDRESS = \"ray://raycluster-latest-head-svc.default.svc.cluster.local:10001\"\n",
    "\n",
    "try:\n",
    "    # Run this code inside the Python environment of your remote kernel\n",
    "    ray.init(RAY_HEAD_ADDRESS)\n",
    "    print(\"SUCCESS! Ray is connected using the FQDN.\")\n",
    "    # You can now proceed to run Ray tasks\n",
    "except Exception as e:\n",
    "    print(f\"Connection still failed: {e}\")"
   ]
  },
  {
   "cell_type": "code",
   "execution_count": null,
   "id": "32c0ae64",
   "metadata": {},
   "outputs": [],
   "source": []
  }
 ],
 "metadata": {
  "kernelspec": {
   "display_name": "Ray Python 3.11.11 (VENV)",
   "language": "python",
   "name": "ray_py_3.11.11"
  },
  "language_info": {
   "codemirror_mode": {
    "name": "ipython",
    "version": 3
   },
   "file_extension": ".py",
   "mimetype": "text/x-python",
   "name": "python",
   "nbconvert_exporter": "python",
   "pygments_lexer": "ipython3",
   "version": "3.11.14"
  }
 },
 "nbformat": 4,
 "nbformat_minor": 5
}
